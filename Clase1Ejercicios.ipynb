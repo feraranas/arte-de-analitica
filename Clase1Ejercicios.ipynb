{
 "cells": [
  {
   "cell_type": "code",
   "execution_count": 32,
   "id": "99a9ad96",
   "metadata": {},
   "outputs": [],
   "source": [
    "def encuentraPrimos(N):\n",
    "    listaPrimos = []\n",
    "    # Use a breakpoint in the code line below to debug your script.\n",
    "    for i in range(2, N):\n",
    "        tmp = True\n",
    "        for j in range(2, i + 1):\n",
    "            if i % j == 0 and i != j:\n",
    "                tmp = False\n",
    "        if tmp == True:\n",
    "            listaPrimos.append(i)\n",
    "    return listaPrimos\n"
   ]
  },
  {
   "cell_type": "code",
   "execution_count": 99,
   "id": "ce817d45",
   "metadata": {},
   "outputs": [],
   "source": [
    "def productoCruz(vec1, vec2):\n",
    "    vec = []\n",
    "    if (len(vec1) != len(vec2)):\n",
    "        return \"Not able to multiply\"\n",
    "    else:\n",
    "        for i in range(len(vec1)):\n",
    "            if (i == len(vec1) - 1):\n",
    "                vec.append((vec1[i] * vec2[0]) - (vec1[0] * vec2[i]))\n",
    "            else:\n",
    "                vec.append((vec1[i] * vec2[i + 1]) - (vec1[i + 1] * vec2[i]))\n",
    "    return vec"
   ]
  },
  {
   "cell_type": "code",
   "execution_count": 156,
   "id": "e7e4eab8",
   "metadata": {},
   "outputs": [],
   "source": [
    "def productoCruzLeeArchivo():\n",
    "    vec1 = []\n",
    "    vec2 = []\n",
    "    with open('file.txt') as f:\n",
    "        lines = f.readlines()\n",
    "        \n",
    "    for j in lines[0]:\n",
    "        if j.isnumeric():\n",
    "            vec1.append(float(j))\n",
    "    \n",
    "    for j in lines[1]:\n",
    "        if j.isnumeric():\n",
    "            vec2.append(float(j))\n",
    "            \n",
    "    print(productoCruz(vec1, vec2))"
   ]
  },
  {
   "cell_type": "code",
   "execution_count": 157,
   "id": "097f4bac",
   "metadata": {},
   "outputs": [
    {
     "name": "stdout",
     "output_type": "stream",
     "text": [
      "EJERCICIO 1:\n",
      "[2, 3, 5, 7, 11, 13, 17, 19]\n",
      "\n",
      "EJERCICIO 2:\n",
      "[-3, -3, 6]\n",
      "\n",
      "EJERCICIO 3:\n",
      "[-3.0, -3.0, 6.0]\n"
     ]
    }
   ],
   "source": [
    "# Press the green button in the gutter to run the script.\n",
    "if __name__ == '__main__':\n",
    "    print(\"EJERCICIO 1:\")\n",
    "    print(encuentraPrimos(20))\n",
    "    print()\n",
    "    print(\"EJERCICIO 2:\")\n",
    "    print(productoCruz([1, 2, 3], [4, 5, 6]))\n",
    "    print()\n",
    "    print(\"EJERCICIO 3:\")\n",
    "    productoCruzLeeArchivo()"
   ]
  },
  {
   "cell_type": "code",
   "execution_count": null,
   "id": "829da9cc",
   "metadata": {},
   "outputs": [],
   "source": []
  }
 ],
 "metadata": {
  "kernelspec": {
   "display_name": "Python 3 (ipykernel)",
   "language": "python",
   "name": "python3"
  },
  "language_info": {
   "codemirror_mode": {
    "name": "ipython",
    "version": 3
   },
   "file_extension": ".py",
   "mimetype": "text/x-python",
   "name": "python",
   "nbconvert_exporter": "python",
   "pygments_lexer": "ipython3",
   "version": "3.9.7"
  }
 },
 "nbformat": 4,
 "nbformat_minor": 5
}
